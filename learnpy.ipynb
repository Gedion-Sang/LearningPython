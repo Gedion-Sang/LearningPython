{
 "cells": [
  {
   "cell_type": "code",
   "execution_count": null,
   "metadata": {},
   "outputs": [
    {
     "name": "stdout",
     "output_type": "stream",
     "text": [
      "2 4 6 8 10 "
     ]
    }
   ],
   "source": [
    "# while loop to print even numbers\n",
    "counter = 2\n",
    "while counter <= 10:\n",
    "    print(counter, end = ' ')\n",
    "    counter = counter + 2 # alternatively use counter += 2"
   ]
  },
  {
   "cell_type": "code",
   "execution_count": null,
   "metadata": {},
   "outputs": [
    {
     "name": "stdout",
     "output_type": "stream",
     "text": [
      "2 4 8 16 32 64 128 256 512 1024 "
     ]
    }
   ],
   "source": [
    "# program to print all powers of 2, beginning with 2 and ending with 1024\n",
    "counter = 2\n",
    "while counter <= 1024:\n",
    "    print(counter, end = ' ')\n",
    "    counter *= 2\n",
    "\n",
    "# current_value = 2\n",
    "# print('Here are some powers of 2!')\n",
    "# while current_value <= 1024:\n",
    "#   print(current_value)\n",
    "#    current_value *= 2\n",
    "# print('That\\'s enough!')"
   ]
  },
  {
   "cell_type": "code",
   "execution_count": 19,
   "metadata": {},
   "outputs": [
    {
     "name": "stdout",
     "output_type": "stream",
     "text": [
      "1 3 5 7 9 11 13 15 17 19 21 23 25 27 29 31 33 35 37 39 41 43 45 47 49 51 53 55 57 59 61 63 65 67 69 71 73 75 77 79 81 83 85 87 89 91 93 95 97 99 "
     ]
    }
   ],
   "source": [
    "# infinite loops\n",
    "current_value = 1\n",
    "while current_value < 100:\n",
    "  print(current_value, end =' ')\n",
    "  current_value += 2"
   ]
  },
  {
   "cell_type": "code",
   "execution_count": 7,
   "metadata": {},
   "outputs": [
    {
     "name": "stdout",
     "output_type": "stream",
     "text": [
      "Wrong! Try again(0-9):  0\n",
      "Wrong! Try again(0-9):  1\n",
      "Wrong! Try again(0-9):  2\n",
      "Wrong! Try again(0-9):  3\n",
      "Wrong! Try again(0-9):  4\n",
      "Wrong! Try again(0-9):  5\n",
      "Wrong! Try again(0-9):  6\n",
      "Wrong! Try again(0-9):  8\n",
      "Wrong! Try again(0-9):  9\n",
      "Wrong! Try again(0-9):  10\n",
      "Wrong! Try again(0-9):  7\n",
      "Correct! The secret number is 7\n"
     ]
    }
   ],
   "source": [
    "# while loops for user input\n",
    "secret_number = 7\n",
    "user_input = int(input('Guess the secret number (0-9): '))\n",
    "while user_input != secret_number:\n",
    "    user_input = int(input('Wrong! Try again (0-9): '))\n",
    "    print('Wrong! Try again(0-9): ',user_input)\n",
    "print('Correct! The secret number is', secret_number)"
   ]
  },
  {
   "cell_type": "code",
   "execution_count": 20,
   "metadata": {},
   "outputs": [
    {
     "name": "stdout",
     "output_type": "stream",
     "text": [
      "Your number is: 3\n"
     ]
    }
   ],
   "source": [
    "user_input = input('Please provide a number: ')\n",
    "while not user_input.isnumeric():\n",
    "  user_input = input('Not a number! Please provide a number: ')\n",
    "print('Your number is:', user_input)"
   ]
  },
  {
   "cell_type": "markdown",
   "metadata": {},
   "source": [
    "The difference between for and while loops\n",
    "\n",
    "- Although for and while loops can be often used interchangeably, the main conceptual difference is that for loops are executed a specific number of times, whereas while loops are executed until a given condition turns false.\n",
    "\n",
    "- The rule of thumb is to use while loops when you can't predict the specific number of iterations. Otherwise, use for loops.\n",
    "\n"
   ]
  },
  {
   "attachments": {
    "image.png": {
     "image/png": "[encoded data removed]"
    }
   },
   "cell_type": "markdown",
   "metadata": {},
   "source": [
    "Nested for loops\n",
    "![image.png](attachment:image.png)"
   ]
  },
  {
   "cell_type": "code",
   "execution_count": null,
   "metadata": {},
   "outputs": [
    {
     "name": "stdout",
     "output_type": "stream",
     "text": [
      "1 x 1 = 1\n",
      "1 x 2 = 2\n",
      "1 x 3 = 3\n",
      "1 x 4 = 4\n",
      "1 x 5 = 5\n",
      "1 x 6 = 6\n",
      "1 x 7 = 7\n",
      "1 x 8 = 8\n",
      "1 x 9 = 9\n",
      "1 x 10 = 10\n",
      "2 x 1 = 2\n",
      "2 x 2 = 4\n",
      "2 x 3 = 6\n",
      "2 x 4 = 8\n",
      "2 x 5 = 10\n",
      "2 x 6 = 12\n",
      "2 x 7 = 14\n",
      "2 x 8 = 16\n",
      "2 x 9 = 18\n",
      "2 x 10 = 20\n",
      "3 x 1 = 3\n",
      "3 x 2 = 6\n",
      "3 x 3 = 9\n",
      "3 x 4 = 12\n",
      "3 x 5 = 15\n",
      "3 x 6 = 18\n",
      "3 x 7 = 21\n",
      "3 x 8 = 24\n",
      "3 x 9 = 27\n",
      "3 x 10 = 30\n",
      "4 x 1 = 4\n",
      "4 x 2 = 8\n",
      "4 x 3 = 12\n",
      "4 x 4 = 16\n",
      "4 x 5 = 20\n",
      "4 x 6 = 24\n",
      "4 x 7 = 28\n",
      "4 x 8 = 32\n",
      "4 x 9 = 36\n",
      "4 x 10 = 40\n",
      "5 x 1 = 5\n",
      "5 x 2 = 10\n",
      "5 x 3 = 15\n",
      "5 x 4 = 20\n",
      "5 x 5 = 25\n",
      "5 x 6 = 30\n",
      "5 x 7 = 35\n",
      "5 x 8 = 40\n",
      "5 x 9 = 45\n",
      "5 x 10 = 50\n",
      "6 x 1 = 6\n",
      "6 x 2 = 12\n",
      "6 x 3 = 18\n",
      "6 x 4 = 24\n",
      "6 x 5 = 30\n",
      "6 x 6 = 36\n",
      "6 x 7 = 42\n",
      "6 x 8 = 48\n",
      "6 x 9 = 54\n",
      "6 x 10 = 60\n",
      "7 x 1 = 7\n",
      "7 x 2 = 14\n",
      "7 x 3 = 21\n",
      "7 x 4 = 28\n",
      "7 x 5 = 35\n",
      "7 x 6 = 42\n",
      "7 x 7 = 49\n",
      "7 x 8 = 56\n",
      "7 x 9 = 63\n",
      "7 x 10 = 70\n",
      "8 x 1 = 8\n",
      "8 x 2 = 16\n",
      "8 x 3 = 24\n",
      "8 x 4 = 32\n",
      "8 x 5 = 40\n",
      "8 x 6 = 48\n",
      "8 x 7 = 56\n",
      "8 x 8 = 64\n",
      "8 x 9 = 72\n",
      "8 x 10 = 80\n",
      "9 x 1 = 9\n",
      "9 x 2 = 18\n",
      "9 x 3 = 27\n",
      "9 x 4 = 36\n",
      "9 x 5 = 45\n",
      "9 x 6 = 54\n",
      "9 x 7 = 63\n",
      "9 x 8 = 72\n",
      "9 x 9 = 81\n",
      "9 x 10 = 90\n",
      "10 x 1 = 10\n",
      "10 x 2 = 20\n",
      "10 x 3 = 30\n",
      "10 x 4 = 40\n",
      "10 x 5 = 50\n",
      "10 x 6 = 60\n",
      "10 x 7 = 70\n",
      "10 x 8 = 80\n",
      "10 x 9 = 90\n",
      "10 x 10 = 100\n"
     ]
    }
   ],
   "source": [
    "# prints multiplication table\n",
    "for i in range (1, 11):\n",
    "  for j in range (1, 11):\n",
    "    print(i, 'x', j, '=', i*j)"
   ]
  },
  {
   "cell_type": "code",
   "execution_count": 13,
   "metadata": {},
   "outputs": [
    {
     "name": "stdout",
     "output_type": "stream",
     "text": [
      " 111111111\n",
      " 222222222\n",
      " 333333333\n",
      " 444444444\n",
      " 555555555\n",
      " 666666666\n",
      " 777777777\n",
      " 888888888\n",
      " 999999999\n"
     ]
    }
   ],
   "source": [
    "print_out = ' '\n",
    "for i in range(1, 10):\n",
    "    for j in range (0, 9):\n",
    "        print_out += str(i)\n",
    "    print(print_out)\n",
    "    print_out = ' '\n",
    "        \n"
   ]
  },
  {
   "cell_type": "code",
   "execution_count": null,
   "metadata": {},
   "outputs": [
    {
     "name": "stdout",
     "output_type": "stream",
     "text": [
      "The score is 46\n"
     ]
    }
   ],
   "source": [
    "# nested while loops\n",
    "# adds 10 numbers\n",
    "final_score = 0\n",
    "counter = 0\n",
    "\n",
    "while counter < 10:\n",
    "  current_number = input('Please provide a number to add: ')\n",
    "  while not current_number.isnumeric():\n",
    "    current_number = input('That\\'s not a number! Try again: ')\n",
    "  final_score += int(current_number)\n",
    "  counter += 1\n",
    "\n",
    "print('The score is', final_score)"
   ]
  },
  {
   "cell_type": "code",
   "execution_count": 3,
   "metadata": {},
   "outputs": [
    {
     "name": "stdout",
     "output_type": "stream",
     "text": [
      "The mean is 10.0\n"
     ]
    }
   ],
   "source": [
    "# prints the mean of the numbers given\n",
    "n_numbers = int(input(\"How many numbers will be given? \"))\n",
    "sum = 0\n",
    "count = 0\n",
    "while count < n_numbers:\n",
    "    num = input('Provide a number: ')\n",
    "    while not num.isnumeric():\n",
    "        num = input('Wrong! That\\'s not a number! Try again: ')\n",
    "    sum += int(num)\n",
    "    count += 1\n",
    "    mean = sum/n_numbers\n",
    "print('The mean is', mean)      "
   ]
  },
  {
   "cell_type": "code",
   "execution_count": null,
   "metadata": {},
   "outputs": [
    {
     "name": "stdout",
     "output_type": "stream",
     "text": [
      "Your number is: 10\n"
     ]
    }
   ],
   "source": [
    "# break with while loops\n",
    "# while True is used to introduce an infinite loop – the condition\n",
    "user_input = input('Please provide a number: ')\n",
    "while True:\n",
    "  if user_input.isnumeric():\n",
    "    break\n",
    "  user_input = input('Not a number! Please provide a number: ')\n",
    "print('Your number is:', user_input)"
   ]
  },
  {
   "cell_type": "code",
   "execution_count": 5,
   "metadata": {},
   "outputs": [
    {
     "name": "stdout",
     "output_type": "stream",
     "text": [
      "Correct!\n"
     ]
    }
   ],
   "source": [
    "year = input('In which year was Python first released? ')\n",
    "while True:\n",
    "    if int(year) == 1990:\n",
    "        break\n",
    "    year = input('Wrong! Try again: ')\n",
    "print('Correct!')"
   ]
  },
  {
   "cell_type": "code",
   "execution_count": null,
   "metadata": {},
   "outputs": [
    {
     "name": "stdout",
     "output_type": "stream",
     "text": [
      "Nickname incorrect!\n"
     ]
    }
   ],
   "source": [
    "# break with for loops\n",
    "# nickname without digits\n",
    "user_input = input('Please provide a nickname for yourself. Don\\'t use digits! ')\n",
    "is_valid = True\n",
    "for character in user_input:\n",
    "  if character.isdigit():\n",
    "    is_valid = False \n",
    "    break\n",
    "\n",
    "if is_valid == True:\n",
    "  print('Nickname correct!')\n",
    "else:\n",
    "  print('Nickname incorrect!')\n"
   ]
  },
  {
   "cell_type": "code",
   "execution_count": null,
   "metadata": {},
   "outputs": [],
   "source": [
    "num = input('Enter any number from 2 to 1000: ')\n",
    "is_prime = True\n",
    "for number in range (2, num):\n",
    "    if num.isdigit() and is_prime == True:\n",
    "        print(f'{num} is prime!')\n",
    "        break\n",
    "    else:\n",
    "\n",
    "\n",
    "\n",
    "\n"
   ]
  },
  {
   "cell_type": "code",
   "execution_count": 9,
   "metadata": {},
   "outputs": [
    {
     "name": "stdout",
     "output_type": "stream",
     "text": [
      "300 is not prime!\n"
     ]
    }
   ],
   "source": [
    "\n",
    "user_number = int(input('Please provide a number from 2 to 1000: '))\n",
    "is_prime = True\n",
    "if user_number >= 2 and user_number <= 1000:\n",
    "  for i in range(2, user_number):\n",
    "    if user_number%i == 0:\n",
    "      is_prime = False\n",
    "      break\n",
    "  if is_prime == True:\n",
    "    print(user_number, 'is prime!')\n",
    "  else:\n",
    "    print(user_number, 'is not prime!')\n",
    "else:\n",
    "  print('Incorrect number!')\n"
   ]
  },
  {
   "cell_type": "code",
   "execution_count": null,
   "metadata": {},
   "outputs": [],
   "source": []
  },
  {
   "cell_type": "code",
   "execution_count": null,
   "metadata": {},
   "outputs": [],
   "source": []
  },
  {
   "cell_type": "code",
   "execution_count": null,
   "metadata": {},
   "outputs": [],
   "source": []
  },
  {
   "cell_type": "code",
   "execution_count": null,
   "metadata": {},
   "outputs": [],
   "source": []
  },
  {
   "cell_type": "code",
   "execution_count": null,
   "metadata": {},
   "outputs": [],
   "source": []
  }
 ],
 "metadata": {
  "kernelspec": {
   "display_name": "Python 3",
   "language": "python",
   "name": "python3"
  },
  "language_info": {
   "codemirror_mode": {
    "name": "ipython",
    "version": 3
   },
   "file_extension": ".py",
   "mimetype": "text/x-python",
   "name": "python",
   "nbconvert_exporter": "python",
   "pygments_lexer": "ipython3",
   "version": "3.13.2"
  }
 },
 "nbformat": 4,
 "nbformat_minor": 2
}
